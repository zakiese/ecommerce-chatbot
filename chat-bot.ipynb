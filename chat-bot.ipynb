{
 "cells": [
  {
   "cell_type": "code",
   "execution_count": 2,
   "id": "1b9dd27d",
   "metadata": {},
   "outputs": [
    {
     "name": "stderr",
     "output_type": "stream",
     "text": [
      "c:\\Users\\THINKPAD\\AppData\\Local\\Programs\\Python\\Python312\\Lib\\site-packages\\tqdm\\auto.py:21: TqdmWarning: IProgress not found. Please update jupyter and ipywidgets. See https://ipywidgets.readthedocs.io/en/stable/user_install.html\n",
      "  from .autonotebook import tqdm as notebook_tqdm\n"
     ]
    }
   ],
   "source": [
    "import pandas as pd\n",
    "import subprocess\n",
    "import gradio as gr\n",
    "import re"
   ]
  },
  {
   "cell_type": "code",
   "execution_count": 3,
   "id": "eb7f2bfe",
   "metadata": {},
   "outputs": [],
   "source": [
    "\n",
    "df = pd.read_csv(\"chatbot_products.csv\")\n",
    "\n",
    "# Function to search products and generate a prompt for TinyLlama\n",
    "def generate_product_prompt(category=None, max_price=None, n_results=5):\n",
    "    filtered = df.copy()\n",
    "\n",
    "    if category:\n",
    "        filtered = filtered[filtered['category'].str.contains(category, case=False)]\n",
    "\n",
    "    if max_price:\n",
    "        filtered = filtered[filtered['price'] <= max_price]\n",
    "\n",
    "    top_products = filtered.head(n_results)\n",
    "\n",
    "    if top_products.empty:\n",
    "        return \"Sorry, I couldn't find any products matching your request.\"\n",
    "\n",
    "    prompt = \"Here are some products you might like:\\n\\n\"\n",
    "    for _, row in top_products.iterrows():\n",
    "        prompt += f\"- {row['name']} ({row['category']}) - ${row['price']:.2f}\\n  Description: {row['description']}\\n\\n\"\n",
    "\n",
    "    prompt += \"Let me know if you want more options or help choosing!\"\n",
    "    return prompt\n"
   ]
  },
  {
   "cell_type": "code",
   "execution_count": 4,
   "id": "1f3f74dc",
   "metadata": {},
   "outputs": [],
   "source": [
    "def chat_with_tinyllama(prompt):\n",
    "    try:\n",
    "        result = subprocess.run(\n",
    "            ['ollama', 'run', 'tinyllama'],\n",
    "            input=prompt.encode('utf-8'),\n",
    "            stdout=subprocess.PIPE,\n",
    "            stderr=subprocess.PIPE,\n",
    "            timeout=90 \n",
    "        )\n",
    "        response = result.stdout.decode('utf-8')\n",
    "        return response\n",
    "    except subprocess.TimeoutExpired:\n",
    "        return \"⚠️ Timeout: The model took too long to respond.\"\n",
    "    except Exception as e:\n",
    "        return f\"❌ Error: {str(e)}\"\n"
   ]
  },
  {
   "cell_type": "code",
   "execution_count": 5,
   "id": "eaf12ff6",
   "metadata": {},
   "outputs": [
    {
     "name": "stdout",
     "output_type": "stream",
     "text": [
      "🤖 TinyLlama says:\n",
      "\n",
      "Sure, here are some additional products to consider:\n",
      "\n",
      "- Honor Magicbook (Tablet) - $297.51\n",
      "   Descripton: Majority get campaign political I on whose reduce because pattern organization live.\n",
      "\n",
      "- Xiaomi Redmi Note 9 Pro (Smartphone) - $346.08\n",
      "   Description: Suffeir in building dark kind side husband ten dec decade student left.\n",
      "\n",
      "- Oppo A17 (Smartphone) - $250.51\n",
      "   Descripton: Much get campaign political I on whose reduce because pattern organization live.\n",
      "\n",
      "- Asus ZenFone 8 Flip (Phone) - $450.96\n",
      "   Description: Majority laugh everyone seek who Democrat note nothing.\n",
      "\n",
      "- OnePlus Nord (Smartphone) - $371.64\n",
      "   Description: Get campaign political I on whose reduce because pattern organization live.\n",
      "\n",
      "Let me know if you have any other questions or need more options.\n",
      "\n",
      "\n"
     ]
    }
   ],
   "source": [
    "# Get a filtered product list\n",
    "prompt = generate_product_prompt(category=\"smartphone\", max_price=400)\n",
    "\n",
    "# Send it to TinyLlama\n",
    "response = chat_with_tinyllama(prompt)\n",
    "\n",
    "# Print the response\n",
    "print(\"🤖 TinyLlama says:\\n\")\n",
    "print(response)\n"
   ]
  },
  {
   "cell_type": "code",
   "execution_count": 6,
   "id": "98f50a1b",
   "metadata": {},
   "outputs": [
    {
     "name": "stdout",
     "output_type": "stream",
     "text": [
      "* Running on local URL:  http://127.0.0.1:7860\n",
      "\n",
      "To create a public link, set `share=True` in `launch()`.\n"
     ]
    },
    {
     "data": {
      "text/html": [
       "<div><iframe src=\"http://127.0.0.1:7860/\" width=\"100%\" height=\"500\" allow=\"autoplay; camera; microphone; clipboard-read; clipboard-write;\" frameborder=\"0\" allowfullscreen></iframe></div>"
      ],
      "text/plain": [
       "<IPython.core.display.HTML object>"
      ]
     },
     "metadata": {},
     "output_type": "display_data"
    },
    {
     "data": {
      "text/plain": []
     },
     "execution_count": 6,
     "metadata": {},
     "output_type": "execute_result"
    }
   ],
   "source": [
    "def chatbot_response(user_input):\n",
    "    \n",
    "    prompt = generate_product_prompt(category=\"smartphone\", max_price=400)\n",
    "    full_prompt = prompt + f\"\\n\\nUser asked: {user_input}\\nAssistant:\"\n",
    "    return chat_with_tinyllama(full_prompt)\n",
    "\n",
    "# Gradio app\n",
    "demo = gr.Interface(\n",
    "    fn=chatbot_response,\n",
    "    inputs=\"text\",\n",
    "    outputs=\"text\",\n",
    "    title=\"🛍️ E-Commerce Chatbot (TinyLlama)\",\n",
    "    description=\"Ask about products, deals, or recommendations!\"\n",
    ")\n",
    "\n",
    "demo.launch()\n"
   ]
  }
 ],
 "metadata": {
  "kernelspec": {
   "display_name": "Python 3",
   "language": "python",
   "name": "python3"
  },
  "language_info": {
   "codemirror_mode": {
    "name": "ipython",
    "version": 3
   },
   "file_extension": ".py",
   "mimetype": "text/x-python",
   "name": "python",
   "nbconvert_exporter": "python",
   "pygments_lexer": "ipython3",
   "version": "3.12.5"
  }
 },
 "nbformat": 4,
 "nbformat_minor": 5
}
